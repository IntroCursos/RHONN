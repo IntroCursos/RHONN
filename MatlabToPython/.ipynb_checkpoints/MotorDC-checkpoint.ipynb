{
 "cells": [
  {
   "cell_type": "code",
   "execution_count": 228,
   "metadata": {},
   "outputs": [],
   "source": [
    "#!pip install ipdb\n",
    "# import ipdb; ipdb.set_trace() # debugging starts here\n",
    "\n",
    "# One-liner to start the debugger here.\n",
    "#    from IPython.core.debugger import Tracer; Tracer()() "
   ]
  },
  {
   "cell_type": "code",
   "execution_count": 229,
   "metadata": {
    "collapsed": true
   },
   "outputs": [],
   "source": [
    "%matplotlib inline\n",
    "import matplotlib.pylab as plt\n",
    "import numpy as np\n",
    "from numpy.linalg import inv"
   ]
  },
  {
   "cell_type": "code",
   "execution_count": 301,
   "metadata": {},
   "outputs": [],
   "source": [
    "class MotorDc(object):\n",
    "    # Propiedades del sistema\n",
    "    J = 0.0167;\n",
    "    b = 0.0167;\n",
    "    Kb = 0.8;\n",
    "    Kt = 0.8;\n",
    "    R = 0.6;\n",
    "    L = 0.012;\n",
    "    T = 0.01;\n",
    "\n",
    "    def __init__ (self,x0):\n",
    "        # Estado Systema\n",
    "        self.xk= x0 #np.array( [ [.5],[.3]]);\n",
    "        self.x_k1= np.zeros_like(self.xk)\n",
    "        self.f = np.zeros_like(self.xk)\n",
    "        self.g = np.zeros_like(self.xk)\n",
    "        \n",
    "    \n",
    "    def Sistema(obj,u):\n",
    "        Gamma = 0\n",
    "\n",
    "        Minterf = np.array([ [-obj.b / obj.J,  obj.Kt / obj.J],\n",
    "                            [-obj.Kb / obj.L,  -obj.R / obj.L]] )\n",
    "        \n",
    "        obj.f = obj.xk + obj.T * Minterf @ obj.xk\n",
    "        \n",
    "        Minterg = np.array([[0], [1 / obj.L]])\n",
    "        obj.g = obj.T*Minterg;\n",
    "        \n",
    "        obj.x_k1 = obj.f + obj.g* u + Gamma;\n",
    "        obj.xk = obj.x_k1\n",
    "        return obj.x_k1\n"
   ]
  },
  {
   "cell_type": "code",
   "execution_count": 302,
   "metadata": {},
   "outputs": [],
   "source": [
    "class Control_Op(MotorDc):\n",
    "    \n",
    "    def __init__(self,x0,P):\n",
    "        super(Control_Op,self).__init__(x0)\n",
    "        self.P = P\n",
    "\n",
    "    \n",
    "    def Control(obj,Ref ):\n",
    "        # Control optimo inverso\n",
    "        hi=obj.g.T@obj.P@(obj.f-Ref);\n",
    "        Ji=1/2*obj.g.T@obj.P@obj.g;        \n",
    "        I=-np.eye(*Ji.shape );           \n",
    "        u=-1/2*inv(I +Ji)@hi;\n",
    "        return u\n",
    "        #u=-pinv(2 +Ji)*hi;\n"
   ]
  },
  {
   "cell_type": "code",
   "execution_count": 378,
   "metadata": {},
   "outputs": [],
   "source": [
    "class System(object):\n",
    "    \n",
    "    def __init__(self,N,x0,P ):\n",
    "        self.x=np.empty( (2,N), dtype=float)\n",
    "        self.x[:,[0] ] = x0\n",
    "        self.P=P\n",
    "        self.c = Control_Op(x0,P)\n",
    "        \n",
    "    def simular(self,k,ref):\n",
    "        #ref = np.array([[0],[0] ])\n",
    "        self.x[:,[k] ] = self.c.Sistema(self.c.Control(ref ))\n",
    "        \n",
    "    def grafica(self):\n",
    "        plt.plot(self.x.T);"
   ]
  },
  {
   "cell_type": "code",
   "execution_count": null,
   "metadata": {
    "collapsed": true
   },
   "outputs": [],
   "source": []
  },
  {
   "cell_type": "code",
   "execution_count": 379,
   "metadata": {},
   "outputs": [],
   "source": [
    "#Ref\n",
    "ref1 = np.sin(np.arange(0,5,.1)*4)\n",
    "ref2 = np.zeros_like(ref1)\n",
    "ref = np.stack( [ref1,ref2] )"
   ]
  },
  {
   "cell_type": "code",
   "execution_count": 417,
   "metadata": {},
   "outputs": [],
   "source": [
    "mu, sigma = 0, 0.1 # mean and standard deviation\n",
    "a1=np.random.normal(mu,sigma)\n",
    "a2=np.random.normal(1,.5)\n",
    "a3=np.random.normal(1,.5)\n",
    "a4=np.random.normal(10,2)"
   ]
  },
  {
   "cell_type": "code",
   "execution_count": 557,
   "metadata": {},
   "outputs": [
    {
     "data": {
      "image/png": "[encoded data removed]",
      "text/plain": [
       "<matplotlib.figure.Figure at 0x10b72db38>"
      ]
     },
     "metadata": {},
     "output_type": "display_data"
    }
   ],
   "source": [
    "N=50\n",
    "\n",
    "mu, sigma = 10, 5 # mean and standard deviation\n",
    "a1=np.random.normal(mu,sigma)\n",
    "a2=np.random.normal(1,.5)\n",
    "a3=np.random.normal(1,.5)\n",
    "a4=np.random.normal(10,2)\n",
    "\n",
    "P = np.array([ [a1,a2],[a2,a3]])*a4 #np.array([ [10,0.5],[0.5,.06]])\n",
    "x0 = np.array( [ [.5],[.3]])\n",
    "\n",
    "s1 = System(N,x0,P)\n",
    "\n",
    "for k in range(1,N):\n",
    "    s1.simular(k,ref[:,[k]])\n",
    "\n",
    "plt.plot(ref[0,:].T,'o-')\n",
    "s1.grafica()"
   ]
  },
  {
   "cell_type": "code",
   "execution_count": null,
   "metadata": {
    "collapsed": true
   },
   "outputs": [],
   "source": []
  }
 ],
 "metadata": {
  "hide_input": false,
  "kernelspec": {
   "display_name": "Python 3",
   "language": "python",
   "name": "python3"
  },
  "language_info": {
   "codemirror_mode": {
    "name": "ipython",
    "version": 3
   },
   "file_extension": ".py",
   "mimetype": "text/x-python",
   "name": "python",
   "nbconvert_exporter": "python",
   "pygments_lexer": "ipython3",
   "version": "3.5.2"
  },
  "toc": {
   "nav_menu": {},
   "number_sections": true,
   "sideBar": true,
   "skip_h1_title": false,
   "toc_cell": false,
   "toc_position": {},
   "toc_section_display": "block",
   "toc_window_display": false
  },
  "varInspector": {
   "cols": {
    "lenName": 16,
    "lenType": 16,
    "lenVar": 40
   },
   "kernels_config": {
    "python": {
     "delete_cmd_postfix": "",
     "delete_cmd_prefix": "del ",
     "library": "var_list.py",
     "varRefreshCmd": "print(var_dic_list())"
    },
    "r": {
     "delete_cmd_postfix": ") ",
     "delete_cmd_prefix": "rm(",
     "library": "var_list.r",
     "varRefreshCmd": "cat(var_dic_list()) "
    }
   },
   "types_to_exclude": [
    "module",
    "function",
    "builtin_function_or_method",
    "instance",
    "_Feature"
   ],
   "window_display": false
  }
 },
 "nbformat": 4,
 "nbformat_minor": 2
}
