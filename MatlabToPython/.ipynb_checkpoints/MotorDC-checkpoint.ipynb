{
 "cells": [
  {
   "cell_type": "code",
   "execution_count": 12,
   "metadata": {
    "collapsed": true
   },
   "outputs": [],
   "source": [
    "#!pip install ipdb\n",
    "# import ipdb; ipdb.set_trace() # debugging starts here\n",
    "\n",
    "# One-liner to start the debugger here.\n",
    "#    from IPython.core.debugger import Tracer; Tracer()() "
   ]
  },
  {
   "cell_type": "code",
   "execution_count": 1,
   "metadata": {
    "collapsed": true
   },
   "outputs": [],
   "source": [
    "%matplotlib inline\n",
    "import matplotlib.pylab as plt\n",
    "import numpy as np\n",
    "from numpy.linalg import inv"
   ]
  },
  {
   "cell_type": "markdown",
   "metadata": {},
   "source": [
    "\\begin{align}\n",
    "  x_{1,k+1} &= x_{1,k}+ T[ -\\frac{b}{J}x_{1,k} + \\frac{K_t}{J}x_{2,k} ]\\\\\n",
    "  x_{2,k+1} &= x_{2,k}+ T[ -\\frac{K_b}{L}x_{1,k} - \\frac{R}{L}x_{2,k} ] + \\frac{1}{L}u\n",
    "\\end{align}\n",
    "\n",
    "$$e_{1,k} = x_{1,k}-x_{1d,k} $$\n",
    "$$e_{1,k+1} = x_{1,k+1}-x_{1d,k+1} = x_{1,k}+ T[ -\\frac{b}{J}x_{1,k} + \\frac{K_t}{J}x_{2,k} ] - x_{1d,k+1} = k_1e_{1,k} $$"
   ]
  },
  {
   "cell_type": "markdown",
   "metadata": {},
   "source": [
    "$$x_{d2,k} = \\frac{J}{K_t}[\\frac{-x_{1,k}+k_1e_{1,k}+ x_{1d,k+1}}{T} +\\frac{b}{J}x_{1,k}]  $$"
   ]
  },
  {
   "cell_type": "code",
   "execution_count": 2,
   "metadata": {
    "collapsed": true
   },
   "outputs": [],
   "source": [
    "class MotorDc(object):\n",
    "    # Propiedades del sistema\n",
    "    J = 0.0167;\n",
    "    b = 0.0167;\n",
    "    Kb = 0.8;\n",
    "    Kt = 0.8;\n",
    "    R = 0.6;\n",
    "    L = 0.012;\n",
    "    T = 0.01;\n",
    "\n",
    "    def __init__ (self,x0):\n",
    "        # Estado Systema\n",
    "        self.xk= x0 #np.array( [ [.5],[.3]]);\n",
    "        self.x_k1= np.zeros_like(self.xk)\n",
    "        self.f = np.zeros_like(self.xk)\n",
    "        self.g = np.zeros_like(self.xk)\n",
    "        \n",
    "    \n",
    "    def Sistema(obj,u):\n",
    "        Gamma = 0\n",
    "\n",
    "        Minterf = np.array([ [-obj.b / obj.J,  obj.Kt / obj.J],\n",
    "                            [-obj.Kb / obj.L,  -obj.R / obj.L]] )\n",
    "        \n",
    "        obj.f = obj.xk + obj.T * Minterf @ obj.xk\n",
    "        \n",
    "        Minterg = np.array([[0], [1 / obj.L]])\n",
    "        obj.g = obj.T*Minterg;\n",
    "        \n",
    "        obj.x_k1 = obj.f + obj.g* u + Gamma;\n",
    "        obj.xk = obj.x_k1\n",
    "        return obj.x_k1\n"
   ]
  },
  {
   "cell_type": "code",
   "execution_count": 3,
   "metadata": {},
   "outputs": [],
   "source": [
    "class Control_Op(MotorDc):\n",
    "    \n",
    "    def __init__(self,x0,P):\n",
    "        super(Control_Op,self).__init__(x0)\n",
    "        self.P = P\n",
    "\n",
    "    \n",
    "    def Control(obj,Ref ):\n",
    "        # Control optimo inverso\n",
    "        hi=obj.g.T@obj.P@(obj.f-Ref);\n",
    "        Ji=1/2*obj.g.T@obj.P@obj.g;        \n",
    "        I=np.eye(*Ji.shape );           \n",
    "        u=-1/2*inv(I +Ji)@hi;\n",
    "        return u\n",
    "        #u=-pinv(2 +Ji)*hi;\n"
   ]
  },
  {
   "cell_type": "markdown",
   "metadata": {},
   "source": [
    "$$x_{d2,k} = \\frac{J}{K_t}[\\frac{-x_{1,k}+k_1e_{1,k}+ x_{1d,k+1}}{T} +\\frac{b}{J}x_{1,k}]  $$"
   ]
  },
  {
   "cell_type": "code",
   "execution_count": 4,
   "metadata": {},
   "outputs": [],
   "source": [
    "class System(object):\n",
    "    \n",
    "    def __init__(self,N,x0,P,x1ref ):\n",
    "        self.x=np.empty( (2,N), dtype=float)\n",
    "        self.x[:,[0] ] = x0\n",
    "        self.P=P\n",
    "        self.c = Control_Op(x0,P)\n",
    "        self.x1ref = x1ref\n",
    "        self.ke = .9\n",
    "        \n",
    "    def simular(self,k):\n",
    "        ref = np.array( [ [self.x1ref[k]],[self.xd2Ref(k)] ])\n",
    "        self.x[:,[k] ] = self.c.Sistema(self.c.Control(ref ))\n",
    "\n",
    "    def xd2Ref(self,k):\n",
    "        x1k = self.c.xk[0]\n",
    "        e = x1k - self.x1ref[k]\n",
    "        # self.x1ref[k] Modificar en un futuro a self.x1ref1[k], x_{1d,k+1}\n",
    "        inter = ( -x1k + self.ke*e + self.x1ref[k] )/self.c.T\n",
    "        \n",
    "        return float ( (self.c.J / self.c.Kt)*inter + (self.c.b/self.c.J)*x1k )\n",
    "        \n",
    "        \n",
    "    def grafica(self,t,edo1=False):\n",
    "        if edo1 == False:\n",
    "            plt.plot(t,self.x.T);\n",
    "        else:\n",
    "            plt.plot(t,self.x[0,:].T);"
   ]
  },
  {
   "cell_type": "markdown",
   "metadata": {},
   "source": [
    "## Referencia"
   ]
  },
  {
   "cell_type": "code",
   "execution_count": 39,
   "metadata": {},
   "outputs": [],
   "source": [
    "#Ref\n",
    "fin = 5\n",
    "T = MotorDc.T\n",
    "t = np.arange(0,fin,T)\n",
    "ref1 = np.sin(t*4)\n",
    "#ref1k1 = np.sin(4*(t+T) )#4*np.cos(t*4)\n",
    "\n",
    "#plt.plot(t,ref1)\n",
    "#Ref\n",
    "#ref2 = np.zeros_like(ref1)\n",
    "#ref = np.stack( [ref1,ref2] )\n",
    "#ref.shape"
   ]
  },
  {
   "cell_type": "markdown",
   "metadata": {},
   "source": [
    "# Ganancia P aleatoria"
   ]
  },
  {
   "cell_type": "code",
   "execution_count": 42,
   "metadata": {},
   "outputs": [
    {
     "name": "stdout",
     "output_type": "stream",
     "text": [
      "0.0380061168739\n"
     ]
    },
    {
     "data": {
      "image/png": "[encoded data removed]",
      "text/plain": [
       "<matplotlib.figure.Figure at 0x1099af4a8>"
      ]
     },
     "metadata": {},
     "output_type": "display_data"
    }
   ],
   "source": [
    "N= len(ref1)\n",
    "\n",
    "mu, sigma = 10, 5 # mean and standard deviation\n",
    "a1=np.random.normal(mu,sigma)\n",
    "a2=np.random.normal(1,.5)\n",
    "a3=np.random.normal(1,.5)\n",
    "a4=1 #np.random.normal(10,2)\n",
    "\n",
    "P = np.array([ [a1,a2],[a2,a3]])*a4 #np.array([ [10,0.5],[0.5,.06]])\n",
    "x0 = np.array( [ [.5],[.3]])\n",
    "\n",
    "s1 = System(N,x0,P,ref1)\n",
    "\n",
    "#for k,inf in range(1,N):\n",
    "for k,inf in enumerate(ref1):\n",
    "    s1.simular(k)\n",
    "\n",
    "plt.plot(t,ref1.T,'c-')\n",
    "#plt.plot(t,ref1k1,'r-')\n",
    "s1.grafica(t,edo1=True)\n",
    "print (np.sum( (s1.x[0,:]-ref1)**2)/len(s1.x[0,:]) )"
   ]
  },
  {
   "cell_type": "code",
   "execution_count": null,
   "metadata": {
    "collapsed": true
   },
   "outputs": [],
   "source": []
  },
  {
   "cell_type": "code",
   "execution_count": 43,
   "metadata": {},
   "outputs": [
    {
     "data": {
      "text/plain": [
       "array([[ 10.98086765,   1.60488494],\n",
       "       [  1.60488494,   1.29914834]])"
      ]
     },
     "execution_count": 43,
     "metadata": {},
     "output_type": "execute_result"
    }
   ],
   "source": [
    "P"
   ]
  },
  {
   "cell_type": "code",
   "execution_count": null,
   "metadata": {
    "collapsed": true
   },
   "outputs": [],
   "source": []
  },
  {
   "cell_type": "markdown",
   "metadata": {},
   "source": [
    "# Utilizando PSO"
   ]
  },
  {
   "cell_type": "code",
   "execution_count": null,
   "metadata": {
    "collapsed": true
   },
   "outputs": [],
   "source": []
  },
  {
   "cell_type": "code",
   "execution_count": 44,
   "metadata": {
    "collapsed": true
   },
   "outputs": [],
   "source": [
    "from pyswarm import pso"
   ]
  },
  {
   "cell_type": "code",
   "execution_count": 45,
   "metadata": {},
   "outputs": [],
   "source": [
    "def OPInv(p):\n",
    "    a1=p[0]\n",
    "    a2=p[1]\n",
    "    a3=p[2]\n",
    "    a4=1 #np.random.normal(10,2)\n",
    "\n",
    "    P = np.array([ [a1,a2],[a2,a3]])*a4 #np.array([ [10,0.5],[0.5,.06]])\n",
    "    x0 = np.array( [ [.5],[.3]])\n",
    "    N= len(ref1)\n",
    "    \n",
    "    s1 = System(N,x0,P,ref1)\n",
    "\n",
    "    for k,inf in enumerate(ref1):\n",
    "        s1.simular(k)\n",
    "\n",
    "    return (np.sum( (s1.x[0,:]-ref1)**2)/len(s1.x[0,:]) )\n",
    "\n",
    "def con(x):\n",
    "    a1 = x[0]\n",
    "    a2 = x[1]\n",
    "    a3 = x[2]\n",
    "    P = np.array([ [a1,a2],[a2,a3]])\n",
    "    w,_=np.linalg.eig(P)     \n",
    "    return w>0"
   ]
  },
  {
   "cell_type": "code",
   "execution_count": 46,
   "metadata": {},
   "outputs": [
    {
     "name": "stdout",
     "output_type": "stream",
     "text": [
      "Stopping search: maximum iterations reached --> 5\n"
     ]
    }
   ],
   "source": [
    "# Define the lower and upper bounds for H, d, t, respectively\n",
    "lb = [1, 1,1]\n",
    "ub = [20, 5,5]\n",
    "\n",
    "xopt, fopt = pso(OPInv,lb,ub,swarmsize=100,f_ieqcons=con,omega=0.01,phip=0.01,maxiter=5)"
   ]
  },
  {
   "cell_type": "code",
   "execution_count": 47,
   "metadata": {},
   "outputs": [
    {
     "data": {
      "text/plain": [
       "array([ 8.07881264,  3.74317971,  1.97122144])"
      ]
     },
     "execution_count": 47,
     "metadata": {},
     "output_type": "execute_result"
    }
   ],
   "source": [
    "xopt"
   ]
  },
  {
   "cell_type": "code",
   "execution_count": 48,
   "metadata": {},
   "outputs": [
    {
     "name": "stdout",
     "output_type": "stream",
     "text": [
      "0.00294145983688\n"
     ]
    },
    {
     "data": {
      "image/png": "[encoded data removed]",
      "text/plain": [
       "<matplotlib.figure.Figure at 0x1099246a0>"
      ]
     },
     "metadata": {},
     "output_type": "display_data"
    }
   ],
   "source": [
    "N= len(ref1)\n",
    "a1 = xopt[0]\n",
    "a2 = xopt[1]\n",
    "a3 = xopt[2]\n",
    "a4=1 #np.random.normal(10,2)\n",
    "\n",
    "P = np.array([ [a1,a2],[a2,a3]])*a4 #np.array([ [10,0.5],[0.5,.06]])\n",
    "x0 = np.array( [ [.5],[.3]])\n",
    "\n",
    "s1 = System(N,x0,P,ref1)\n",
    "\n",
    "#for k,inf in range(1,N):\n",
    "for k,inf in enumerate(ref1):\n",
    "    s1.simular(k)\n",
    "\n",
    "plt.plot(t,ref1.T,'c-')\n",
    "#plt.plot(t,ref1k1,'r-')\n",
    "s1.grafica(t,edo1=True)\n",
    "print (np.sum( (s1.x[0,:]-ref1)**2)/len(s1.x[0,:]) )"
   ]
  },
  {
   "cell_type": "code",
   "execution_count": null,
   "metadata": {},
   "outputs": [],
   "source": [
    "w,_=np.linalg.eig(P)     \n",
    "w,w>0"
   ]
  },
  {
   "cell_type": "code",
   "execution_count": null,
   "metadata": {},
   "outputs": [],
   "source": []
  },
  {
   "cell_type": "code",
   "execution_count": null,
   "metadata": {
    "collapsed": true
   },
   "outputs": [],
   "source": []
  },
  {
   "cell_type": "code",
   "execution_count": null,
   "metadata": {
    "collapsed": true
   },
   "outputs": [],
   "source": []
  },
  {
   "cell_type": "code",
   "execution_count": null,
   "metadata": {
    "collapsed": true
   },
   "outputs": [],
   "source": [
    "from sympy import *\n",
    "init_printing()\n",
    "var(\"X\")\n",
    "\n",
    "Fref = sin(4*X)\n",
    "Fref,Fref.diff()"
   ]
  },
  {
   "cell_type": "code",
   "execution_count": null,
   "metadata": {
    "collapsed": true
   },
   "outputs": [],
   "source": []
  },
  {
   "cell_type": "code",
   "execution_count": null,
   "metadata": {
    "collapsed": true
   },
   "outputs": [],
   "source": [
    "import IPython.display as ipd\n",
    "#ipd.Audio('audio/conga_groove.wav')"
   ]
  },
  {
   "cell_type": "code",
   "execution_count": null,
   "metadata": {},
   "outputs": [],
   "source": [
    "sr = 22050 # sample rate\n",
    "T = 2.0    # seconds\n",
    "t = np.linspace(0, T, int(T*sr), endpoint=False) # time variable\n",
    "x = 0.5*np.sin(2*np.pi*440*t)                # pure sine wave at 440 Hz"
   ]
  },
  {
   "cell_type": "code",
   "execution_count": null,
   "metadata": {},
   "outputs": [],
   "source": [
    "ipd.Audio(x, rate=sr) # load a NumPy array"
   ]
  },
  {
   "cell_type": "code",
   "execution_count": null,
   "metadata": {
    "collapsed": true
   },
   "outputs": [],
   "source": []
  }
 ],
 "metadata": {
  "hide_input": false,
  "kernelspec": {
   "display_name": "Python 3",
   "language": "python",
   "name": "python3"
  },
  "language_info": {
   "codemirror_mode": {
    "name": "ipython",
    "version": 3
   },
   "file_extension": ".py",
   "mimetype": "text/x-python",
   "name": "python",
   "nbconvert_exporter": "python",
   "pygments_lexer": "ipython3",
   "version": "3.5.2"
  },
  "toc": {
   "nav_menu": {},
   "number_sections": true,
   "sideBar": true,
   "skip_h1_title": false,
   "toc_cell": false,
   "toc_position": {},
   "toc_section_display": "block",
   "toc_window_display": false
  },
  "varInspector": {
   "cols": {
    "lenName": 16,
    "lenType": 16,
    "lenVar": 40
   },
   "kernels_config": {
    "python": {
     "delete_cmd_postfix": "",
     "delete_cmd_prefix": "del ",
     "library": "var_list.py",
     "varRefreshCmd": "print(var_dic_list())"
    },
    "r": {
     "delete_cmd_postfix": ") ",
     "delete_cmd_prefix": "rm(",
     "library": "var_list.r",
     "varRefreshCmd": "cat(var_dic_list()) "
    }
   },
   "types_to_exclude": [
    "module",
    "function",
    "builtin_function_or_method",
    "instance",
    "_Feature"
   ],
   "window_display": false
  }
 },
 "nbformat": 4,
 "nbformat_minor": 2
}
