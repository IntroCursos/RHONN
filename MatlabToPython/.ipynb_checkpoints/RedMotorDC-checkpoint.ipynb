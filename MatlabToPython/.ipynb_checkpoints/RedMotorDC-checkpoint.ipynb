{
 "cells": [
  {
   "cell_type": "code",
   "execution_count": 1,
   "metadata": {
    "collapsed": true
   },
   "outputs": [],
   "source": [
    "#!pip install ipdb\n",
    "# import ipdb; ipdb.set_trace() # debugging starts here\n",
    "\n",
    "# One-liner to start the debugger here.\n",
    "#    from IPython.core.debugger import Tracer; Tracer()() "
   ]
  },
  {
   "cell_type": "code",
   "execution_count": 2,
   "metadata": {
    "collapsed": true
   },
   "outputs": [],
   "source": [
    "%matplotlib inline\n",
    "import matplotlib.pylab as plt\n",
    "import numpy as np\n",
    "from numpy.linalg import inv"
   ]
  },
  {
   "cell_type": "markdown",
   "metadata": {},
   "source": [
    "\\begin{align}\n",
    "  x_{1,k+1} &= x_{1,k}+ T[ -\\frac{b}{J}x_{1,k} + \\frac{K_t}{J}x_{2,k} ]\\\\\n",
    "  x_{2,k+1} &= x_{2,k}+ T[ -\\frac{K_b}{L}x_{1,k} - \\frac{R}{L}x_{2,k} ] + \\frac{1}{L}u\n",
    "\\end{align}\n",
    "\n",
    "$$e_{1,k} = x_{1,k}-x_{1d,k} $$\n",
    "$$e_{1,k+1} = x_{1,k+1}-x_{1d,k+1} = x_{1,k}+ T[ -\\frac{b}{J}x_{1,k} + \\frac{K_t}{J}x_{2,k} ] - x_{1d,k+1} = k_1e_{1,k} $$"
   ]
  },
  {
   "cell_type": "markdown",
   "metadata": {},
   "source": [
    "$$x_{d2,k} = \\frac{J}{K_t}[\\frac{-x_{1,k}+k_1e_{1,k}+ x_{1d,k+1}}{T} +\\frac{b}{J}x_{1,k}]  $$"
   ]
  },
  {
   "cell_type": "code",
   "execution_count": 3,
   "metadata": {
    "collapsed": true
   },
   "outputs": [],
   "source": [
    "class MotorDc(object):\n",
    "    # Propiedades del sistema\n",
    "    J = 0.0167;\n",
    "    b = 0.0167;\n",
    "    Kb = 0.8;\n",
    "    Kt = 0.8;\n",
    "    R = 0.6;\n",
    "    L = 0.012;\n",
    "    T = 0.01;\n",
    "\n",
    "    def __init__ (self,x0):\n",
    "        # Estado Systema\n",
    "        self.xk= x0 #np.array( [ [.5],[.3]]);\n",
    "        self.x_k1= np.zeros_like(self.xk)\n",
    "        self.f = np.zeros_like(self.xk)\n",
    "        self.g = np.zeros_like(self.xk)\n",
    "        \n",
    "    \n",
    "    def Sistema(obj,u):\n",
    "        Gamma = 0\n",
    "\n",
    "        Minterf = np.array([ [-obj.b / obj.J,  obj.Kt / obj.J],\n",
    "                            [-obj.Kb / obj.L,  -obj.R / obj.L]] )\n",
    "        \n",
    "        obj.f = obj.xk + obj.T * Minterf @ obj.xk\n",
    "        \n",
    "        Minterg = np.array([[0], [1 / obj.L]])\n",
    "        obj.g = obj.T*Minterg;\n",
    "        \n",
    "        obj.x_k1 = obj.f + obj.g* u + Gamma;\n",
    "        obj.xk = obj.x_k1\n",
    "        return obj.x_k1\n"
   ]
  },
  {
   "cell_type": "code",
   "execution_count": null,
   "metadata": {},
   "outputs": [],
   "source": []
  },
  {
   "cell_type": "code",
   "execution_count": 27,
   "metadata": {
    "run_control": {
     "marked": false
    }
   },
   "outputs": [],
   "source": [
    "class RHONN(MotorDc):\n",
    "    \n",
    "    def __init__(self,x0,x0red,g):\n",
    "        self.q1=5e9\n",
    "        self.R1=1e1\n",
    "        self.eta=1\n",
    "        self.P1=1e8*np.eye(2)\n",
    "        self.W1=np.random.rand(2,1)-0.5\n",
    "        self.Q1=5e9*np.eye(2)\n",
    "        self.xredk= x0red #rand\n",
    "        self.Xred_k1=0\n",
    "        self.redf=0\n",
    "        self.redg=g\n",
    "        super(RHONN,self).__init__(x0)\n",
    "    \n",
    "    def logistic(self,x):\n",
    "        return 1/( 1+np.exp(-x) )\n",
    "    \n",
    "    \n",
    "    #s = estados que depende la red    \n",
    "    def  edosRed(obj,x,s,u):\n",
    "        #xi es el estado de la planta Art(X)\n",
    "        #Xi es el estado de la RHONN  Art(x)\n",
    "        #P función de la covarianza de error aproximado de la matriz P\n",
    "        #Q is the covariance matrix of the process noise\n",
    "        #from IPython.core.debugger import Tracer; Tracer()() \n",
    "        Z1= obj.logistic(s)#np.array([ [obj.logistic(s[0]) ], [obj.logistic(s[1])] ])\n",
    "\n",
    "        e1= x - obj.xredk\n",
    "        H1=Z1\n",
    "        K1=obj.P1@H1@np.linalg.inv(obj.R1+H1.T@obj.P1@H1)\n",
    "        obj.W1=obj.W1+obj.eta*K1*e1\n",
    "        obj.P1=obj.P1-K1@H1.T@obj.P1+obj.Q1\n",
    "        \n",
    "        X_1=obj.W1.T@Z1+obj.redg*u\n",
    "        obj.f=obj.W1.T@Z1\n",
    "#        obj.g=G;\n",
    "                      \n",
    "        obj.Xred_k1=X_1\n",
    "        obj.xredk=X_1 \n",
    "        return X_1"
   ]
  },
  {
   "cell_type": "code",
   "execution_count": 28,
   "metadata": {
    "collapsed": true
   },
   "outputs": [],
   "source": [
    "class Control_Op(MotorDc):\n",
    "    \n",
    "    def __init__(self,x0,P):\n",
    "        super(Control_Op,self).__init__(x0)\n",
    "        self.P = P\n",
    "\n",
    "    \n",
    "    def Control(obj,Ref ):\n",
    "        # Control optimo inverso\n",
    "        hi=obj.g.T@obj.P@(obj.f-Ref);\n",
    "        Ji=1/2*obj.g.T@obj.P@obj.g;        \n",
    "        I=np.eye(*Ji.shape );           \n",
    "        u=-1/2*inv(I +Ji)@hi;\n",
    "        return u\n",
    "        #u=-pinv(2 +Ji)*hi;\n"
   ]
  },
  {
   "cell_type": "markdown",
   "metadata": {},
   "source": [
    "$$x_{d2,k} = \\frac{J}{K_t}[\\frac{-x_{1,k}+k_1e_{1,k}+ x_{1d,k+1}}{T} +\\frac{b}{J}x_{1,k}]  $$"
   ]
  },
  {
   "cell_type": "code",
   "execution_count": 83,
   "metadata": {
    "code_folding": [
     24
    ]
   },
   "outputs": [],
   "source": [
    "class System(object):\n",
    "    \n",
    "    def __init__(self,N,x0,P,x1ref ):\n",
    "        self.x=np.empty( (2,N), dtype=float)\n",
    "        self.xred = np.zeros_like(self.x)\n",
    "        self.x[:,[0] ] = x0\n",
    "        self.xred[:,[0] ] = np.random.rand(2,1)\n",
    "        \n",
    "        self.P=P\n",
    "        self.c = Control_Op(x0,P)\n",
    "        \n",
    "        self.redx1k = RHONN(x0,x0red= self.xred[0,0], g=0.1)\n",
    "        self.redx2k = RHONN(x0,x0red= self.xred[0,0], g=1)\n",
    "        \n",
    "        self.x1ref = x1ref\n",
    "        self.ke = .9\n",
    "        \n",
    "        \n",
    "    def simular(self,k):\n",
    "        ref = np.array( [ [self.x1ref[k]],[self.xd2Ref(k)] ])\n",
    "        u = self.c.Control(ref) \n",
    "        self.x[:,[k]] = self.c.Sistema( u )\n",
    "        self.xred[:,[k]] = self.Red(self.x[0,k],self.x[1,k],u)\n",
    "        \n",
    "    def xd2Ref(self,k):\n",
    "        x1k = self.c.xk[0]\n",
    "        e = x1k - self.x1ref[k]\n",
    "        # self.x1ref[k] Modificar en un futuro a self.x1ref1[k], x_{1d,k+1}\n",
    "        inter = ( -x1k + self.ke*e + self.x1ref[k] )/self.c.T\n",
    "        \n",
    "        return float ( (self.c.J / self.c.Kt)*inter + (self.c.b/self.c.J)*x1k )\n",
    "        \n",
    "        \n",
    "    def Red(self,x1k,x2k,u):\n",
    "        #from IPython.core.debugger import Tracer; Tracer()() \n",
    "        rx1k = self.redx1k.edosRed(x1k, np.array([[x1k],[x2k]]),x2k )\n",
    "        rx2k = self.redx2k.edosRed(x2k, np.array([[x1k],[x2k]]),u )\n",
    "        \n",
    "        #Xred_1 =[obj.r1.Xred_1;obj.r2.Xred_1]; \n",
    "        #obj.fred=[obj.r1.Xred_1;obj.r2.f];\n",
    "        #obj.gred=[0;obj.r2.g];\n",
    "\n",
    "        return  np.array([ rx1k[0],rx2k[0] ])\n",
    "    \n",
    "    def grafica(self,t,edo1=False,WithRed=False):\n",
    "        if edo1 == False:\n",
    "            plt.plot(t,self.x.T)\n",
    "        else:\n",
    "            plt.plot(t,self.x[0,:].T,'r',label=\"Estado $x_1$\")\n",
    "        if WithRed == True:\n",
    "            if edo1 == False:\n",
    "                plt.plot(t,self.xred.T)\n",
    "            else:\n",
    "                plt.plot(t,self.xred[0,:].T,'b',label='Red $x_1$')\n",
    "                \n",
    "        plt.legend(loc=0)\n",
    "            "
   ]
  },
  {
   "cell_type": "code",
   "execution_count": 80,
   "metadata": {
    "collapsed": true
   },
   "outputs": [],
   "source": [
    "plt.legend?"
   ]
  },
  {
   "cell_type": "markdown",
   "metadata": {},
   "source": [
    "## Referencia"
   ]
  },
  {
   "cell_type": "code",
   "execution_count": 74,
   "metadata": {
    "collapsed": true
   },
   "outputs": [],
   "source": [
    "#Ref\n",
    "fin = 2\n",
    "T = MotorDc.T\n",
    "t = np.arange(0,fin,T)\n",
    "ref1 = np.sin(t*4)"
   ]
  },
  {
   "cell_type": "markdown",
   "metadata": {},
   "source": [
    "# Ganancia P aleatoria"
   ]
  },
  {
   "cell_type": "code",
   "execution_count": 84,
   "metadata": {
    "scrolled": true
   },
   "outputs": [
    {
     "name": "stdout",
     "output_type": "stream",
     "text": [
      "0.0951300571228\n"
     ]
    },
    {
     "data": {
      "image/png": "[encoded data removed]",
      "text/plain": [
       "<matplotlib.figure.Figure at 0x10a0e3128>"
      ]
     },
     "metadata": {},
     "output_type": "display_data"
    }
   ],
   "source": [
    "N= len(ref1)\n",
    "\n",
    "mu, sigma = 10, 5 # mean and standard deviation\n",
    "a1=np.random.normal(mu,sigma)\n",
    "a2=np.random.normal(1,.5)\n",
    "a3=np.random.normal(1,.5)\n",
    "a4=1 #np.random.normal(10,2)\n",
    "\n",
    "P = np.array([ [a1,a2],[a2,a3]])*a4 #np.array([ [10,0.5],[0.5,.06]])\n",
    "x0 = np.array( [ [.5],[.3]])\n",
    "\n",
    "s1 = System(N,x0,P,ref1)\n",
    "\n",
    "#for k,inf in range(1,N):\n",
    "for k,inf in enumerate(ref1):\n",
    "    s1.simular(k)\n",
    "\n",
    "plt.plot(t,ref1.T,'c-')\n",
    "#plt.plot(t,ref1k1,'r-')\n",
    "s1.grafica(t,edo1=True,WithRed=True)\n",
    "print (np.sum( (s1.x[0,:]-ref1)**2)/len(s1.x[0,:]) )"
   ]
  },
  {
   "cell_type": "code",
   "execution_count": 35,
   "metadata": {},
   "outputs": [
    {
     "data": {
      "text/plain": [
       "array([[ 13.18456493,   1.14960975],\n",
       "       [  1.14960975,   1.95569574]])"
      ]
     },
     "execution_count": 35,
     "metadata": {},
     "output_type": "execute_result"
    }
   ],
   "source": [
    "P"
   ]
  },
  {
   "cell_type": "code",
   "execution_count": 43,
   "metadata": {},
   "outputs": [
    {
     "data": {
      "text/plain": [
       "array([[ 10.98086765,   1.60488494],\n",
       "       [  1.60488494,   1.29914834]])"
      ]
     },
     "execution_count": 43,
     "metadata": {},
     "output_type": "execute_result"
    }
   ],
   "source": [
    "P"
   ]
  },
  {
   "cell_type": "code",
   "execution_count": null,
   "metadata": {
    "collapsed": true
   },
   "outputs": [],
   "source": []
  },
  {
   "cell_type": "markdown",
   "metadata": {},
   "source": [
    "# Utilizando PSO"
   ]
  },
  {
   "cell_type": "code",
   "execution_count": null,
   "metadata": {
    "collapsed": true
   },
   "outputs": [],
   "source": []
  },
  {
   "cell_type": "code",
   "execution_count": 44,
   "metadata": {
    "collapsed": true
   },
   "outputs": [],
   "source": [
    "from pyswarm import pso"
   ]
  },
  {
   "cell_type": "code",
   "execution_count": 45,
   "metadata": {
    "collapsed": true
   },
   "outputs": [],
   "source": [
    "def OPInv(p):\n",
    "    a1=p[0]\n",
    "    a2=p[1]\n",
    "    a3=p[2]\n",
    "    a4=1 #np.random.normal(10,2)\n",
    "\n",
    "    P = np.array([ [a1,a2],[a2,a3]])*a4 #np.array([ [10,0.5],[0.5,.06]])\n",
    "    x0 = np.array( [ [.5],[.3]])\n",
    "    N= len(ref1)\n",
    "    \n",
    "    s1 = System(N,x0,P,ref1)\n",
    "\n",
    "    for k,inf in enumerate(ref1):\n",
    "        s1.simular(k)\n",
    "\n",
    "    return (np.sum( (s1.x[0,:]-ref1)**2)/len(s1.x[0,:]) )\n",
    "\n",
    "def con(x):\n",
    "    a1 = x[0]\n",
    "    a2 = x[1]\n",
    "    a3 = x[2]\n",
    "    P = np.array([ [a1,a2],[a2,a3]])\n",
    "    w,_=np.linalg.eig(P)     \n",
    "    return w>0"
   ]
  },
  {
   "cell_type": "code",
   "execution_count": 46,
   "metadata": {},
   "outputs": [
    {
     "name": "stdout",
     "output_type": "stream",
     "text": [
      "Stopping search: maximum iterations reached --> 5\n"
     ]
    }
   ],
   "source": [
    "# Define the lower and upper bounds for H, d, t, respectively\n",
    "lb = [1, 1,1]\n",
    "ub = [20, 5,5]\n",
    "\n",
    "xopt, fopt = pso(OPInv,lb,ub,swarmsize=100,f_ieqcons=con,omega=0.01,phip=0.01,maxiter=5)"
   ]
  },
  {
   "cell_type": "code",
   "execution_count": 47,
   "metadata": {},
   "outputs": [
    {
     "data": {
      "text/plain": [
       "array([ 8.07881264,  3.74317971,  1.97122144])"
      ]
     },
     "execution_count": 47,
     "metadata": {},
     "output_type": "execute_result"
    }
   ],
   "source": [
    "xopt"
   ]
  },
  {
   "cell_type": "code",
   "execution_count": 68,
   "metadata": {},
   "outputs": [],
   "source": [
    "xopt=np.array([ 8.07881264,  3.74317971,  1.97122144])"
   ]
  },
  {
   "cell_type": "code",
   "execution_count": 85,
   "metadata": {},
   "outputs": [
    {
     "name": "stdout",
     "output_type": "stream",
     "text": [
      "0.0394228798842\n"
     ]
    },
    {
     "data": {
      "image/png": "[encoded data removed]",
      "text/plain": [
       "<matplotlib.figure.Figure at 0x109337978>"
      ]
     },
     "metadata": {},
     "output_type": "display_data"
    }
   ],
   "source": [
    "# Mod la referencia\n",
    "fin = 2\n",
    "T = MotorDc.T\n",
    "t = np.arange(0,fin,T)\n",
    "ref1 = 4*np.sin(t*4)*np.cos(t*8) + (4/np.pi)*np.sin(t)\n",
    "\n",
    "N= len(ref1)\n",
    "a1 = xopt[0]\n",
    "a2 = xopt[1]\n",
    "a3 = xopt[2]\n",
    "a4=1 #np.random.normal(10,2)\n",
    "\n",
    "P = np.array([ [a1,a2],[a2,a3]])*a4 #np.array([ [10,0.5],[0.5,.06]])\n",
    "x0 = np.array( [ [.5],[.3]])\n",
    "\n",
    "s1 = System(N,x0,P,ref1)\n",
    "\n",
    "#for k,inf in range(1,N):\n",
    "for k,inf in enumerate(ref1):\n",
    "    s1.simular(k)\n",
    "\n",
    "plt.plot(t,ref1.T,'c-')\n",
    "#plt.plot(t,ref1k1,'r-')\n",
    "s1.grafica(t,edo1=True,WithRed=True)\n",
    "print (np.sum( (s1.x[0,:]-ref1)**2)/len(s1.x[0,:]) )"
   ]
  },
  {
   "cell_type": "code",
   "execution_count": 61,
   "metadata": {},
   "outputs": [
    {
     "data": {
      "text/plain": [
       "(array([ 9.85586189,  0.19417219]), array([ True,  True], dtype=bool))"
      ]
     },
     "execution_count": 61,
     "metadata": {},
     "output_type": "execute_result"
    }
   ],
   "source": [
    "w,_=np.linalg.eig(P)     \n",
    "w,w>0"
   ]
  },
  {
   "cell_type": "code",
   "execution_count": null,
   "metadata": {
    "collapsed": true
   },
   "outputs": [],
   "source": []
  },
  {
   "cell_type": "code",
   "execution_count": null,
   "metadata": {
    "collapsed": true
   },
   "outputs": [],
   "source": []
  },
  {
   "cell_type": "code",
   "execution_count": null,
   "metadata": {
    "collapsed": true
   },
   "outputs": [],
   "source": []
  },
  {
   "cell_type": "code",
   "execution_count": null,
   "metadata": {
    "collapsed": true
   },
   "outputs": [],
   "source": []
  },
  {
   "cell_type": "code",
   "execution_count": null,
   "metadata": {
    "collapsed": true
   },
   "outputs": [],
   "source": [
    "from sympy import *\n",
    "init_printing()\n",
    "var(\"X\")\n",
    "\n",
    "Fref = sin(4*X)\n",
    "Fref,Fref.diff()"
   ]
  },
  {
   "cell_type": "code",
   "execution_count": null,
   "metadata": {
    "collapsed": true
   },
   "outputs": [],
   "source": []
  },
  {
   "cell_type": "code",
   "execution_count": null,
   "metadata": {
    "collapsed": true
   },
   "outputs": [],
   "source": [
    "import IPython.display as ipd\n",
    "#ipd.Audio('audio/conga_groove.wav')"
   ]
  },
  {
   "cell_type": "code",
   "execution_count": null,
   "metadata": {
    "collapsed": true
   },
   "outputs": [],
   "source": [
    "sr = 22050 # sample rate\n",
    "T = 2.0    # seconds\n",
    "t = np.linspace(0, T, int(T*sr), endpoint=False) # time variable\n",
    "x = 0.5*np.sin(2*np.pi*440*t)                # pure sine wave at 440 Hz"
   ]
  },
  {
   "cell_type": "code",
   "execution_count": null,
   "metadata": {
    "collapsed": true
   },
   "outputs": [],
   "source": [
    "ipd.Audio(x, rate=sr) # load a NumPy array"
   ]
  },
  {
   "cell_type": "code",
   "execution_count": null,
   "metadata": {
    "collapsed": true
   },
   "outputs": [],
   "source": []
  }
 ],
 "metadata": {
  "hide_input": false,
  "kernelspec": {
   "display_name": "Python 3",
   "language": "python",
   "name": "python3"
  },
  "language_info": {
   "codemirror_mode": {
    "name": "ipython",
    "version": 3
   },
   "file_extension": ".py",
   "mimetype": "text/x-python",
   "name": "python",
   "nbconvert_exporter": "python",
   "pygments_lexer": "ipython3",
   "version": "3.5.2"
  },
  "toc": {
   "nav_menu": {},
   "number_sections": true,
   "sideBar": true,
   "skip_h1_title": false,
   "toc_cell": false,
   "toc_position": {},
   "toc_section_display": "block",
   "toc_window_display": false
  },
  "varInspector": {
   "cols": {
    "lenName": 16,
    "lenType": 16,
    "lenVar": 40
   },
   "kernels_config": {
    "python": {
     "delete_cmd_postfix": "",
     "delete_cmd_prefix": "del ",
     "library": "var_list.py",
     "varRefreshCmd": "print(var_dic_list())"
    },
    "r": {
     "delete_cmd_postfix": ") ",
     "delete_cmd_prefix": "rm(",
     "library": "var_list.r",
     "varRefreshCmd": "cat(var_dic_list()) "
    }
   },
   "types_to_exclude": [
    "module",
    "function",
    "builtin_function_or_method",
    "instance",
    "_Feature"
   ],
   "window_display": false
  }
 },
 "nbformat": 4,
 "nbformat_minor": 2
}
